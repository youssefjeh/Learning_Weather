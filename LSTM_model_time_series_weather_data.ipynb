{
  "nbformat": 4,
  "nbformat_minor": 0,
  "metadata": {
    "colab": {
      "name": "Untitled1.ipynb",
      "provenance": []
    },
    "kernelspec": {
      "name": "python3",
      "display_name": "Python 3"
    },
    "language_info": {
      "name": "python"
    }
  },
  "cells": [
    {
      "cell_type": "code",
      "execution_count": 8,
      "metadata": {
        "colab": {
          "resources": {
            "http://localhost:8080/nbextensions/google.colab/files.js": {
              "data": "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",
              "ok": true,
              "headers": [
                [
                  "content-type",
                  "application/javascript"
                ]
              ],
              "status": 200,
              "status_text": ""
            }
          },
          "base_uri": "https://localhost:8080/",
          "height": 74
        },
        "id": "kvnqprddARhK",
        "outputId": "cc268ffb-4e4c-433c-c117-33c8e7852d71"
      },
      "outputs": [
        {
          "output_type": "display_data",
          "data": {
            "text/plain": [
              "<IPython.core.display.HTML object>"
            ],
            "text/html": [
              "\n",
              "     <input type=\"file\" id=\"files-bee94fc5-4442-4416-80e2-f28013020226\" name=\"files[]\" multiple disabled\n",
              "        style=\"border:none\" />\n",
              "     <output id=\"result-bee94fc5-4442-4416-80e2-f28013020226\">\n",
              "      Upload widget is only available when the cell has been executed in the\n",
              "      current browser session. Please rerun this cell to enable.\n",
              "      </output>\n",
              "      <script src=\"/nbextensions/google.colab/files.js\"></script> "
            ]
          },
          "metadata": {}
        },
        {
          "output_type": "stream",
          "name": "stdout",
          "text": [
            "Saving data_w to data_w (1)\n"
          ]
        }
      ],
      "source": [
        "from google.colab import files \n",
        "  \n",
        "  \n",
        "uploaded = files.upload()"
      ]
    },
    {
      "cell_type": "code",
      "source": [
        "import pandas as pd \n",
        "import io \n",
        "import numpy as np\n",
        "data_weather = pd.read_csv(io.BytesIO(uploaded['data_w']),index_col='date',parse_dates=True) \n",
        "data_weather.head()"
      ],
      "metadata": {
        "colab": {
          "base_uri": "https://localhost:8080/",
          "height": 440
        },
        "id": "56uNSt7RN-_N",
        "outputId": "7b7e0377-f1dc-48dd-b75d-d582ada79807"
      },
      "execution_count": 9,
      "outputs": [
        {
          "output_type": "execute_result",
          "data": {
            "text/plain": [
              "            Average temperature  Average humidity  Average dewpoint  \\\n",
              "date                                                                  \n",
              "2010-01-01                 32.1                49              15.2   \n",
              "2010-01-02                 32.1                50              15.5   \n",
              "2010-01-03                 23.1                64              12.1   \n",
              "2010-01-04                 25.7                48               7.2   \n",
              "2010-01-05                 34.3                51              17.8   \n",
              "\n",
              "            Average barometer  Average windspeed  Average gustspeed  \\\n",
              "date                                                                  \n",
              "2010-01-01               30.2               14.6               19.7   \n",
              "2010-01-02               30.1                8.8               12.2   \n",
              "2010-01-03               30.4                2.9                4.4   \n",
              "2010-01-04               30.4                4.7                7.0   \n",
              "2010-01-05               30.0               14.2               18.5   \n",
              "\n",
              "            Average direction  Rainfall for month  Rainfall for year  \\\n",
              "date                                                                   \n",
              "2010-01-01              297.0                 0.0                0.0   \n",
              "2010-01-02              306.0                 0.0                0.0   \n",
              "2010-01-03               21.0                 0.0                0.0   \n",
              "2010-01-04              324.0                 0.0                0.0   \n",
              "2010-01-05              300.0                 0.0                0.0   \n",
              "\n",
              "            Maximum rain per minute  Maximum temperature  Minimum temperature  \\\n",
              "date                                                                            \n",
              "2010-01-01                      0.0                 40.0                 22.1   \n",
              "2010-01-02                      0.0                 39.1                 22.0   \n",
              "2010-01-03                      0.0                 33.4                  9.2   \n",
              "2010-01-04                      0.0                 36.5                  7.6   \n",
              "2010-01-05                      0.0                 40.1                 28.4   \n",
              "\n",
              "            Maximum humidity  Minimum humidity  Maximum pressure  \\\n",
              "date                                                               \n",
              "2010-01-01              61.0              41.0            30.330   \n",
              "2010-01-02              77.0              39.0            30.292   \n",
              "2010-01-03              85.0              34.0            30.549   \n",
              "2010-01-04              82.0              25.0            30.585   \n",
              "2010-01-05              60.0              43.0            30.173   \n",
              "\n",
              "            Minimum pressure  Maximum windspeed  Maximum gust speed  \\\n",
              "date                                                                  \n",
              "2010-01-01            30.034               34.5                51.0   \n",
              "2010-01-02            29.937               23.0                35.0   \n",
              "2010-01-03            30.237               17.3                24.0   \n",
              "2010-01-04            30.107               15.0                21.0   \n",
              "2010-01-05            29.897               34.5                43.0   \n",
              "\n",
              "            Maximum heat index  \n",
              "date                            \n",
              "2010-01-01                40.0  \n",
              "2010-01-02                39.1  \n",
              "2010-01-03                33.4  \n",
              "2010-01-04                36.5  \n",
              "2010-01-05                40.1  "
            ],
            "text/html": [
              "\n",
              "  <div id=\"df-5c266e1c-26b8-45e5-a77c-07a6526ae0b7\">\n",
              "    <div class=\"colab-df-container\">\n",
              "      <div>\n",
              "<style scoped>\n",
              "    .dataframe tbody tr th:only-of-type {\n",
              "        vertical-align: middle;\n",
              "    }\n",
              "\n",
              "    .dataframe tbody tr th {\n",
              "        vertical-align: top;\n",
              "    }\n",
              "\n",
              "    .dataframe thead th {\n",
              "        text-align: right;\n",
              "    }\n",
              "</style>\n",
              "<table border=\"1\" class=\"dataframe\">\n",
              "  <thead>\n",
              "    <tr style=\"text-align: right;\">\n",
              "      <th></th>\n",
              "      <th>Average temperature</th>\n",
              "      <th>Average humidity</th>\n",
              "      <th>Average dewpoint</th>\n",
              "      <th>Average barometer</th>\n",
              "      <th>Average windspeed</th>\n",
              "      <th>Average gustspeed</th>\n",
              "      <th>Average direction</th>\n",
              "      <th>Rainfall for month</th>\n",
              "      <th>Rainfall for year</th>\n",
              "      <th>Maximum rain per minute</th>\n",
              "      <th>Maximum temperature</th>\n",
              "      <th>Minimum temperature</th>\n",
              "      <th>Maximum humidity</th>\n",
              "      <th>Minimum humidity</th>\n",
              "      <th>Maximum pressure</th>\n",
              "      <th>Minimum pressure</th>\n",
              "      <th>Maximum windspeed</th>\n",
              "      <th>Maximum gust speed</th>\n",
              "      <th>Maximum heat index</th>\n",
              "    </tr>\n",
              "    <tr>\n",
              "      <th>date</th>\n",
              "      <th></th>\n",
              "      <th></th>\n",
              "      <th></th>\n",
              "      <th></th>\n",
              "      <th></th>\n",
              "      <th></th>\n",
              "      <th></th>\n",
              "      <th></th>\n",
              "      <th></th>\n",
              "      <th></th>\n",
              "      <th></th>\n",
              "      <th></th>\n",
              "      <th></th>\n",
              "      <th></th>\n",
              "      <th></th>\n",
              "      <th></th>\n",
              "      <th></th>\n",
              "      <th></th>\n",
              "      <th></th>\n",
              "    </tr>\n",
              "  </thead>\n",
              "  <tbody>\n",
              "    <tr>\n",
              "      <th>2010-01-01</th>\n",
              "      <td>32.1</td>\n",
              "      <td>49</td>\n",
              "      <td>15.2</td>\n",
              "      <td>30.2</td>\n",
              "      <td>14.6</td>\n",
              "      <td>19.7</td>\n",
              "      <td>297.0</td>\n",
              "      <td>0.0</td>\n",
              "      <td>0.0</td>\n",
              "      <td>0.0</td>\n",
              "      <td>40.0</td>\n",
              "      <td>22.1</td>\n",
              "      <td>61.0</td>\n",
              "      <td>41.0</td>\n",
              "      <td>30.330</td>\n",
              "      <td>30.034</td>\n",
              "      <td>34.5</td>\n",
              "      <td>51.0</td>\n",
              "      <td>40.0</td>\n",
              "    </tr>\n",
              "    <tr>\n",
              "      <th>2010-01-02</th>\n",
              "      <td>32.1</td>\n",
              "      <td>50</td>\n",
              "      <td>15.5</td>\n",
              "      <td>30.1</td>\n",
              "      <td>8.8</td>\n",
              "      <td>12.2</td>\n",
              "      <td>306.0</td>\n",
              "      <td>0.0</td>\n",
              "      <td>0.0</td>\n",
              "      <td>0.0</td>\n",
              "      <td>39.1</td>\n",
              "      <td>22.0</td>\n",
              "      <td>77.0</td>\n",
              "      <td>39.0</td>\n",
              "      <td>30.292</td>\n",
              "      <td>29.937</td>\n",
              "      <td>23.0</td>\n",
              "      <td>35.0</td>\n",
              "      <td>39.1</td>\n",
              "    </tr>\n",
              "    <tr>\n",
              "      <th>2010-01-03</th>\n",
              "      <td>23.1</td>\n",
              "      <td>64</td>\n",
              "      <td>12.1</td>\n",
              "      <td>30.4</td>\n",
              "      <td>2.9</td>\n",
              "      <td>4.4</td>\n",
              "      <td>21.0</td>\n",
              "      <td>0.0</td>\n",
              "      <td>0.0</td>\n",
              "      <td>0.0</td>\n",
              "      <td>33.4</td>\n",
              "      <td>9.2</td>\n",
              "      <td>85.0</td>\n",
              "      <td>34.0</td>\n",
              "      <td>30.549</td>\n",
              "      <td>30.237</td>\n",
              "      <td>17.3</td>\n",
              "      <td>24.0</td>\n",
              "      <td>33.4</td>\n",
              "    </tr>\n",
              "    <tr>\n",
              "      <th>2010-01-04</th>\n",
              "      <td>25.7</td>\n",
              "      <td>48</td>\n",
              "      <td>7.2</td>\n",
              "      <td>30.4</td>\n",
              "      <td>4.7</td>\n",
              "      <td>7.0</td>\n",
              "      <td>324.0</td>\n",
              "      <td>0.0</td>\n",
              "      <td>0.0</td>\n",
              "      <td>0.0</td>\n",
              "      <td>36.5</td>\n",
              "      <td>7.6</td>\n",
              "      <td>82.0</td>\n",
              "      <td>25.0</td>\n",
              "      <td>30.585</td>\n",
              "      <td>30.107</td>\n",
              "      <td>15.0</td>\n",
              "      <td>21.0</td>\n",
              "      <td>36.5</td>\n",
              "    </tr>\n",
              "    <tr>\n",
              "      <th>2010-01-05</th>\n",
              "      <td>34.3</td>\n",
              "      <td>51</td>\n",
              "      <td>17.8</td>\n",
              "      <td>30.0</td>\n",
              "      <td>14.2</td>\n",
              "      <td>18.5</td>\n",
              "      <td>300.0</td>\n",
              "      <td>0.0</td>\n",
              "      <td>0.0</td>\n",
              "      <td>0.0</td>\n",
              "      <td>40.1</td>\n",
              "      <td>28.4</td>\n",
              "      <td>60.0</td>\n",
              "      <td>43.0</td>\n",
              "      <td>30.173</td>\n",
              "      <td>29.897</td>\n",
              "      <td>34.5</td>\n",
              "      <td>43.0</td>\n",
              "      <td>40.1</td>\n",
              "    </tr>\n",
              "  </tbody>\n",
              "</table>\n",
              "</div>\n",
              "      <button class=\"colab-df-convert\" onclick=\"convertToInteractive('df-5c266e1c-26b8-45e5-a77c-07a6526ae0b7')\"\n",
              "              title=\"Convert this dataframe to an interactive table.\"\n",
              "              style=\"display:none;\">\n",
              "        \n",
              "  <svg xmlns=\"http://www.w3.org/2000/svg\" height=\"24px\"viewBox=\"0 0 24 24\"\n",
              "       width=\"24px\">\n",
              "    <path d=\"M0 0h24v24H0V0z\" fill=\"none\"/>\n",
              "    <path d=\"M18.56 5.44l.94 2.06.94-2.06 2.06-.94-2.06-.94-.94-2.06-.94 2.06-2.06.94zm-11 1L8.5 8.5l.94-2.06 2.06-.94-2.06-.94L8.5 2.5l-.94 2.06-2.06.94zm10 10l.94 2.06.94-2.06 2.06-.94-2.06-.94-.94-2.06-.94 2.06-2.06.94z\"/><path d=\"M17.41 7.96l-1.37-1.37c-.4-.4-.92-.59-1.43-.59-.52 0-1.04.2-1.43.59L10.3 9.45l-7.72 7.72c-.78.78-.78 2.05 0 2.83L4 21.41c.39.39.9.59 1.41.59.51 0 1.02-.2 1.41-.59l7.78-7.78 2.81-2.81c.8-.78.8-2.07 0-2.86zM5.41 20L4 18.59l7.72-7.72 1.47 1.35L5.41 20z\"/>\n",
              "  </svg>\n",
              "      </button>\n",
              "      \n",
              "  <style>\n",
              "    .colab-df-container {\n",
              "      display:flex;\n",
              "      flex-wrap:wrap;\n",
              "      gap: 12px;\n",
              "    }\n",
              "\n",
              "    .colab-df-convert {\n",
              "      background-color: #E8F0FE;\n",
              "      border: none;\n",
              "      border-radius: 50%;\n",
              "      cursor: pointer;\n",
              "      display: none;\n",
              "      fill: #1967D2;\n",
              "      height: 32px;\n",
              "      padding: 0 0 0 0;\n",
              "      width: 32px;\n",
              "    }\n",
              "\n",
              "    .colab-df-convert:hover {\n",
              "      background-color: #E2EBFA;\n",
              "      box-shadow: 0px 1px 2px rgba(60, 64, 67, 0.3), 0px 1px 3px 1px rgba(60, 64, 67, 0.15);\n",
              "      fill: #174EA6;\n",
              "    }\n",
              "\n",
              "    [theme=dark] .colab-df-convert {\n",
              "      background-color: #3B4455;\n",
              "      fill: #D2E3FC;\n",
              "    }\n",
              "\n",
              "    [theme=dark] .colab-df-convert:hover {\n",
              "      background-color: #434B5C;\n",
              "      box-shadow: 0px 1px 3px 1px rgba(0, 0, 0, 0.15);\n",
              "      filter: drop-shadow(0px 1px 2px rgba(0, 0, 0, 0.3));\n",
              "      fill: #FFFFFF;\n",
              "    }\n",
              "  </style>\n",
              "\n",
              "      <script>\n",
              "        const buttonEl =\n",
              "          document.querySelector('#df-5c266e1c-26b8-45e5-a77c-07a6526ae0b7 button.colab-df-convert');\n",
              "        buttonEl.style.display =\n",
              "          google.colab.kernel.accessAllowed ? 'block' : 'none';\n",
              "\n",
              "        async function convertToInteractive(key) {\n",
              "          const element = document.querySelector('#df-5c266e1c-26b8-45e5-a77c-07a6526ae0b7');\n",
              "          const dataTable =\n",
              "            await google.colab.kernel.invokeFunction('convertToInteractive',\n",
              "                                                     [key], {});\n",
              "          if (!dataTable) return;\n",
              "\n",
              "          const docLinkHtml = 'Like what you see? Visit the ' +\n",
              "            '<a target=\"_blank\" href=https://colab.research.google.com/notebooks/data_table.ipynb>data table notebook</a>'\n",
              "            + ' to learn more about interactive tables.';\n",
              "          element.innerHTML = '';\n",
              "          dataTable['output_type'] = 'display_data';\n",
              "          await google.colab.output.renderOutput(dataTable, element);\n",
              "          const docLink = document.createElement('div');\n",
              "          docLink.innerHTML = docLinkHtml;\n",
              "          element.appendChild(docLink);\n",
              "        }\n",
              "      </script>\n",
              "    </div>\n",
              "  </div>\n",
              "  "
            ]
          },
          "metadata": {},
          "execution_count": 9
        }
      ]
    },
    {
      "cell_type": "code",
      "source": [
        "aver_temp=data_weather[\"Average temperature\"]\n",
        "Rainfall_for_month=data_weather[\"Rainfall for month\"]"
      ],
      "metadata": {
        "id": "f5YvYBMpOU67"
      },
      "execution_count": 10,
      "outputs": []
    },
    {
      "cell_type": "code",
      "source": [
        "from sklearn.preprocessing import MinMaxScaler\n",
        "scaler=MinMaxScaler()\n",
        "scaler.fit(data_weather)\n",
        "data_weather=scaler.transform(data_weather)\n",
        "pd.DataFrame(data_weather, columns=[\"Average temperature\",\"Average humidity\",\"Average dewpoint\",\"Average barometer\",\"Average windspeed\",\"Average gustspeed\",\"Average direction\",\"Rainfall for month\",\"Rainfall for year\",\"Maximum rain per minute\",\"Maximum temperature\",\"Minimum temperature\",\"Maximum humidity\",\"Minimum humidity\",\"Maximum pressure\",\"Minimum pressure\",\"Maximum windspeed\",\"Maximum gust speed\",\"Maximum heat index\"])"
      ],
      "metadata": {
        "colab": {
          "base_uri": "https://localhost:8080/",
          "height": 540
        },
        "id": "trKrn89ObMF3",
        "outputId": "6a9533f5-0a7a-4b53-e9e2-3ab105166ab9"
      },
      "execution_count": 11,
      "outputs": [
        {
          "output_type": "execute_result",
          "data": {
            "text/plain": [
              "      Average temperature  Average humidity  Average dewpoint  \\\n",
              "0                0.417655          0.470588          0.275862   \n",
              "1                0.417655          0.482353          0.281307   \n",
              "2                0.299078          0.647059          0.219601   \n",
              "3                0.333333          0.458824          0.130672   \n",
              "4                0.446640          0.494118          0.323049   \n",
              "...                   ...               ...               ...   \n",
              "4050             0.293808          0.788235          0.288566   \n",
              "4051             0.271410          0.529412          0.117967   \n",
              "4052             0.304348          0.564706          0.188748   \n",
              "4053             0.341238          0.588235          0.243194   \n",
              "4054             0.267457          0.917647          0.319419   \n",
              "\n",
              "      Average barometer  Average windspeed  Average gustspeed  \\\n",
              "0              0.969349           0.654709           0.081947   \n",
              "1              0.965517           0.394619           0.050749   \n",
              "2              0.977011           0.130045           0.018303   \n",
              "3              0.977011           0.210762           0.029118   \n",
              "4              0.961686           0.636771           0.076955   \n",
              "...                 ...                ...                ...   \n",
              "4050           0.946360           0.125561           0.018719   \n",
              "4051           0.938697           0.439462           0.059900   \n",
              "4052           0.950192           0.372197           0.050333   \n",
              "4053           0.942529           0.717489           0.096090   \n",
              "4054           0.942529           0.116592           0.017055   \n",
              "\n",
              "      Average direction  Rainfall for month  Rainfall for year  \\\n",
              "0              0.825000            0.000000           0.000000   \n",
              "1              0.850000            0.000000           0.000000   \n",
              "2              0.058333            0.000000           0.000000   \n",
              "3              0.900000            0.000000           0.000000   \n",
              "4              0.833333            0.000000           0.000000   \n",
              "...                 ...                 ...                ...   \n",
              "4050           0.672222            0.079872           0.063376   \n",
              "4051           0.577778            0.079872           0.063376   \n",
              "4052           0.650000            0.079872           0.063376   \n",
              "4053           0.669444            0.079872           0.063376   \n",
              "4054           0.977778            0.079872           0.063376   \n",
              "\n",
              "      Maximum rain per minute  Maximum temperature  Minimum temperature  \\\n",
              "0                         0.0             0.431034             0.336377   \n",
              "1                         0.0             0.421336             0.334855   \n",
              "2                         0.0             0.359914             0.140030   \n",
              "3                         0.0             0.393319             0.115677   \n",
              "4                         0.0             0.432112             0.432268   \n",
              "...                       ...                  ...                  ...   \n",
              "4050                      0.0             0.314655             0.258752   \n",
              "4051                      0.0             0.271552             0.220700   \n",
              "4052                      0.0             0.262931             0.220700   \n",
              "4053                      0.0             0.329741             0.325723   \n",
              "4054                      0.0             0.283405             0.182648   \n",
              "\n",
              "      Maximum humidity  Minimum humidity  Maximum pressure  Minimum pressure  \\\n",
              "0             0.546512          0.455556          0.955644          0.069366   \n",
              "1             0.732558          0.433333          0.953715          0.068964   \n",
              "2             0.825581          0.377778          0.966758          0.070205   \n",
              "3             0.790698          0.277778          0.968585          0.069667   \n",
              "4             0.534884          0.477778          0.947676          0.068799   \n",
              "...                ...               ...               ...               ...   \n",
              "4050          0.883721          0.588889          0.926259          0.066433   \n",
              "4051          0.755814          0.466667          0.917022          0.066391   \n",
              "4052          0.709302          0.555556          0.926614          0.067438   \n",
              "4053          0.848837          0.466667          0.922757          0.066854   \n",
              "4054          0.906977          0.855556          0.920879          0.066606   \n",
              "\n",
              "      Maximum windspeed  Maximum gust speed  Maximum heat index  \n",
              "0              0.189873            0.199765            0.451467  \n",
              "1              0.126582            0.137094            0.441309  \n",
              "2              0.095212            0.094007            0.376975  \n",
              "3              0.082554            0.082256            0.411964  \n",
              "4              0.189873            0.168429            0.452596  \n",
              "...                 ...                 ...                 ...  \n",
              "4050           0.101266            0.121817            0.329571  \n",
              "4051           0.145845            0.162162            0.284424  \n",
              "4052           0.095212            0.121817            0.275395  \n",
              "4053           0.189873            0.207207            0.345372  \n",
              "4054           0.063291            0.067763            0.296840  \n",
              "\n",
              "[4055 rows x 19 columns]"
            ],
            "text/html": [
              "\n",
              "  <div id=\"df-fba442ee-dbc0-432e-ae4d-9bb5a0ed0abf\">\n",
              "    <div class=\"colab-df-container\">\n",
              "      <div>\n",
              "<style scoped>\n",
              "    .dataframe tbody tr th:only-of-type {\n",
              "        vertical-align: middle;\n",
              "    }\n",
              "\n",
              "    .dataframe tbody tr th {\n",
              "        vertical-align: top;\n",
              "    }\n",
              "\n",
              "    .dataframe thead th {\n",
              "        text-align: right;\n",
              "    }\n",
              "</style>\n",
              "<table border=\"1\" class=\"dataframe\">\n",
              "  <thead>\n",
              "    <tr style=\"text-align: right;\">\n",
              "      <th></th>\n",
              "      <th>Average temperature</th>\n",
              "      <th>Average humidity</th>\n",
              "      <th>Average dewpoint</th>\n",
              "      <th>Average barometer</th>\n",
              "      <th>Average windspeed</th>\n",
              "      <th>Average gustspeed</th>\n",
              "      <th>Average direction</th>\n",
              "      <th>Rainfall for month</th>\n",
              "      <th>Rainfall for year</th>\n",
              "      <th>Maximum rain per minute</th>\n",
              "      <th>Maximum temperature</th>\n",
              "      <th>Minimum temperature</th>\n",
              "      <th>Maximum humidity</th>\n",
              "      <th>Minimum humidity</th>\n",
              "      <th>Maximum pressure</th>\n",
              "      <th>Minimum pressure</th>\n",
              "      <th>Maximum windspeed</th>\n",
              "      <th>Maximum gust speed</th>\n",
              "      <th>Maximum heat index</th>\n",
              "    </tr>\n",
              "  </thead>\n",
              "  <tbody>\n",
              "    <tr>\n",
              "      <th>0</th>\n",
              "      <td>0.417655</td>\n",
              "      <td>0.470588</td>\n",
              "      <td>0.275862</td>\n",
              "      <td>0.969349</td>\n",
              "      <td>0.654709</td>\n",
              "      <td>0.081947</td>\n",
              "      <td>0.825000</td>\n",
              "      <td>0.000000</td>\n",
              "      <td>0.000000</td>\n",
              "      <td>0.0</td>\n",
              "      <td>0.431034</td>\n",
              "      <td>0.336377</td>\n",
              "      <td>0.546512</td>\n",
              "      <td>0.455556</td>\n",
              "      <td>0.955644</td>\n",
              "      <td>0.069366</td>\n",
              "      <td>0.189873</td>\n",
              "      <td>0.199765</td>\n",
              "      <td>0.451467</td>\n",
              "    </tr>\n",
              "    <tr>\n",
              "      <th>1</th>\n",
              "      <td>0.417655</td>\n",
              "      <td>0.482353</td>\n",
              "      <td>0.281307</td>\n",
              "      <td>0.965517</td>\n",
              "      <td>0.394619</td>\n",
              "      <td>0.050749</td>\n",
              "      <td>0.850000</td>\n",
              "      <td>0.000000</td>\n",
              "      <td>0.000000</td>\n",
              "      <td>0.0</td>\n",
              "      <td>0.421336</td>\n",
              "      <td>0.334855</td>\n",
              "      <td>0.732558</td>\n",
              "      <td>0.433333</td>\n",
              "      <td>0.953715</td>\n",
              "      <td>0.068964</td>\n",
              "      <td>0.126582</td>\n",
              "      <td>0.137094</td>\n",
              "      <td>0.441309</td>\n",
              "    </tr>\n",
              "    <tr>\n",
              "      <th>2</th>\n",
              "      <td>0.299078</td>\n",
              "      <td>0.647059</td>\n",
              "      <td>0.219601</td>\n",
              "      <td>0.977011</td>\n",
              "      <td>0.130045</td>\n",
              "      <td>0.018303</td>\n",
              "      <td>0.058333</td>\n",
              "      <td>0.000000</td>\n",
              "      <td>0.000000</td>\n",
              "      <td>0.0</td>\n",
              "      <td>0.359914</td>\n",
              "      <td>0.140030</td>\n",
              "      <td>0.825581</td>\n",
              "      <td>0.377778</td>\n",
              "      <td>0.966758</td>\n",
              "      <td>0.070205</td>\n",
              "      <td>0.095212</td>\n",
              "      <td>0.094007</td>\n",
              "      <td>0.376975</td>\n",
              "    </tr>\n",
              "    <tr>\n",
              "      <th>3</th>\n",
              "      <td>0.333333</td>\n",
              "      <td>0.458824</td>\n",
              "      <td>0.130672</td>\n",
              "      <td>0.977011</td>\n",
              "      <td>0.210762</td>\n",
              "      <td>0.029118</td>\n",
              "      <td>0.900000</td>\n",
              "      <td>0.000000</td>\n",
              "      <td>0.000000</td>\n",
              "      <td>0.0</td>\n",
              "      <td>0.393319</td>\n",
              "      <td>0.115677</td>\n",
              "      <td>0.790698</td>\n",
              "      <td>0.277778</td>\n",
              "      <td>0.968585</td>\n",
              "      <td>0.069667</td>\n",
              "      <td>0.082554</td>\n",
              "      <td>0.082256</td>\n",
              "      <td>0.411964</td>\n",
              "    </tr>\n",
              "    <tr>\n",
              "      <th>4</th>\n",
              "      <td>0.446640</td>\n",
              "      <td>0.494118</td>\n",
              "      <td>0.323049</td>\n",
              "      <td>0.961686</td>\n",
              "      <td>0.636771</td>\n",
              "      <td>0.076955</td>\n",
              "      <td>0.833333</td>\n",
              "      <td>0.000000</td>\n",
              "      <td>0.000000</td>\n",
              "      <td>0.0</td>\n",
              "      <td>0.432112</td>\n",
              "      <td>0.432268</td>\n",
              "      <td>0.534884</td>\n",
              "      <td>0.477778</td>\n",
              "      <td>0.947676</td>\n",
              "      <td>0.068799</td>\n",
              "      <td>0.189873</td>\n",
              "      <td>0.168429</td>\n",
              "      <td>0.452596</td>\n",
              "    </tr>\n",
              "    <tr>\n",
              "      <th>...</th>\n",
              "      <td>...</td>\n",
              "      <td>...</td>\n",
              "      <td>...</td>\n",
              "      <td>...</td>\n",
              "      <td>...</td>\n",
              "      <td>...</td>\n",
              "      <td>...</td>\n",
              "      <td>...</td>\n",
              "      <td>...</td>\n",
              "      <td>...</td>\n",
              "      <td>...</td>\n",
              "      <td>...</td>\n",
              "      <td>...</td>\n",
              "      <td>...</td>\n",
              "      <td>...</td>\n",
              "      <td>...</td>\n",
              "      <td>...</td>\n",
              "      <td>...</td>\n",
              "      <td>...</td>\n",
              "    </tr>\n",
              "    <tr>\n",
              "      <th>4050</th>\n",
              "      <td>0.293808</td>\n",
              "      <td>0.788235</td>\n",
              "      <td>0.288566</td>\n",
              "      <td>0.946360</td>\n",
              "      <td>0.125561</td>\n",
              "      <td>0.018719</td>\n",
              "      <td>0.672222</td>\n",
              "      <td>0.079872</td>\n",
              "      <td>0.063376</td>\n",
              "      <td>0.0</td>\n",
              "      <td>0.314655</td>\n",
              "      <td>0.258752</td>\n",
              "      <td>0.883721</td>\n",
              "      <td>0.588889</td>\n",
              "      <td>0.926259</td>\n",
              "      <td>0.066433</td>\n",
              "      <td>0.101266</td>\n",
              "      <td>0.121817</td>\n",
              "      <td>0.329571</td>\n",
              "    </tr>\n",
              "    <tr>\n",
              "      <th>4051</th>\n",
              "      <td>0.271410</td>\n",
              "      <td>0.529412</td>\n",
              "      <td>0.117967</td>\n",
              "      <td>0.938697</td>\n",
              "      <td>0.439462</td>\n",
              "      <td>0.059900</td>\n",
              "      <td>0.577778</td>\n",
              "      <td>0.079872</td>\n",
              "      <td>0.063376</td>\n",
              "      <td>0.0</td>\n",
              "      <td>0.271552</td>\n",
              "      <td>0.220700</td>\n",
              "      <td>0.755814</td>\n",
              "      <td>0.466667</td>\n",
              "      <td>0.917022</td>\n",
              "      <td>0.066391</td>\n",
              "      <td>0.145845</td>\n",
              "      <td>0.162162</td>\n",
              "      <td>0.284424</td>\n",
              "    </tr>\n",
              "    <tr>\n",
              "      <th>4052</th>\n",
              "      <td>0.304348</td>\n",
              "      <td>0.564706</td>\n",
              "      <td>0.188748</td>\n",
              "      <td>0.950192</td>\n",
              "      <td>0.372197</td>\n",
              "      <td>0.050333</td>\n",
              "      <td>0.650000</td>\n",
              "      <td>0.079872</td>\n",
              "      <td>0.063376</td>\n",
              "      <td>0.0</td>\n",
              "      <td>0.262931</td>\n",
              "      <td>0.220700</td>\n",
              "      <td>0.709302</td>\n",
              "      <td>0.555556</td>\n",
              "      <td>0.926614</td>\n",
              "      <td>0.067438</td>\n",
              "      <td>0.095212</td>\n",
              "      <td>0.121817</td>\n",
              "      <td>0.275395</td>\n",
              "    </tr>\n",
              "    <tr>\n",
              "      <th>4053</th>\n",
              "      <td>0.341238</td>\n",
              "      <td>0.588235</td>\n",
              "      <td>0.243194</td>\n",
              "      <td>0.942529</td>\n",
              "      <td>0.717489</td>\n",
              "      <td>0.096090</td>\n",
              "      <td>0.669444</td>\n",
              "      <td>0.079872</td>\n",
              "      <td>0.063376</td>\n",
              "      <td>0.0</td>\n",
              "      <td>0.329741</td>\n",
              "      <td>0.325723</td>\n",
              "      <td>0.848837</td>\n",
              "      <td>0.466667</td>\n",
              "      <td>0.922757</td>\n",
              "      <td>0.066854</td>\n",
              "      <td>0.189873</td>\n",
              "      <td>0.207207</td>\n",
              "      <td>0.345372</td>\n",
              "    </tr>\n",
              "    <tr>\n",
              "      <th>4054</th>\n",
              "      <td>0.267457</td>\n",
              "      <td>0.917647</td>\n",
              "      <td>0.319419</td>\n",
              "      <td>0.942529</td>\n",
              "      <td>0.116592</td>\n",
              "      <td>0.017055</td>\n",
              "      <td>0.977778</td>\n",
              "      <td>0.079872</td>\n",
              "      <td>0.063376</td>\n",
              "      <td>0.0</td>\n",
              "      <td>0.283405</td>\n",
              "      <td>0.182648</td>\n",
              "      <td>0.906977</td>\n",
              "      <td>0.855556</td>\n",
              "      <td>0.920879</td>\n",
              "      <td>0.066606</td>\n",
              "      <td>0.063291</td>\n",
              "      <td>0.067763</td>\n",
              "      <td>0.296840</td>\n",
              "    </tr>\n",
              "  </tbody>\n",
              "</table>\n",
              "<p>4055 rows × 19 columns</p>\n",
              "</div>\n",
              "      <button class=\"colab-df-convert\" onclick=\"convertToInteractive('df-fba442ee-dbc0-432e-ae4d-9bb5a0ed0abf')\"\n",
              "              title=\"Convert this dataframe to an interactive table.\"\n",
              "              style=\"display:none;\">\n",
              "        \n",
              "  <svg xmlns=\"http://www.w3.org/2000/svg\" height=\"24px\"viewBox=\"0 0 24 24\"\n",
              "       width=\"24px\">\n",
              "    <path d=\"M0 0h24v24H0V0z\" fill=\"none\"/>\n",
              "    <path d=\"M18.56 5.44l.94 2.06.94-2.06 2.06-.94-2.06-.94-.94-2.06-.94 2.06-2.06.94zm-11 1L8.5 8.5l.94-2.06 2.06-.94-2.06-.94L8.5 2.5l-.94 2.06-2.06.94zm10 10l.94 2.06.94-2.06 2.06-.94-2.06-.94-.94-2.06-.94 2.06-2.06.94z\"/><path d=\"M17.41 7.96l-1.37-1.37c-.4-.4-.92-.59-1.43-.59-.52 0-1.04.2-1.43.59L10.3 9.45l-7.72 7.72c-.78.78-.78 2.05 0 2.83L4 21.41c.39.39.9.59 1.41.59.51 0 1.02-.2 1.41-.59l7.78-7.78 2.81-2.81c.8-.78.8-2.07 0-2.86zM5.41 20L4 18.59l7.72-7.72 1.47 1.35L5.41 20z\"/>\n",
              "  </svg>\n",
              "      </button>\n",
              "      \n",
              "  <style>\n",
              "    .colab-df-container {\n",
              "      display:flex;\n",
              "      flex-wrap:wrap;\n",
              "      gap: 12px;\n",
              "    }\n",
              "\n",
              "    .colab-df-convert {\n",
              "      background-color: #E8F0FE;\n",
              "      border: none;\n",
              "      border-radius: 50%;\n",
              "      cursor: pointer;\n",
              "      display: none;\n",
              "      fill: #1967D2;\n",
              "      height: 32px;\n",
              "      padding: 0 0 0 0;\n",
              "      width: 32px;\n",
              "    }\n",
              "\n",
              "    .colab-df-convert:hover {\n",
              "      background-color: #E2EBFA;\n",
              "      box-shadow: 0px 1px 2px rgba(60, 64, 67, 0.3), 0px 1px 3px 1px rgba(60, 64, 67, 0.15);\n",
              "      fill: #174EA6;\n",
              "    }\n",
              "\n",
              "    [theme=dark] .colab-df-convert {\n",
              "      background-color: #3B4455;\n",
              "      fill: #D2E3FC;\n",
              "    }\n",
              "\n",
              "    [theme=dark] .colab-df-convert:hover {\n",
              "      background-color: #434B5C;\n",
              "      box-shadow: 0px 1px 3px 1px rgba(0, 0, 0, 0.15);\n",
              "      filter: drop-shadow(0px 1px 2px rgba(0, 0, 0, 0.3));\n",
              "      fill: #FFFFFF;\n",
              "    }\n",
              "  </style>\n",
              "\n",
              "      <script>\n",
              "        const buttonEl =\n",
              "          document.querySelector('#df-fba442ee-dbc0-432e-ae4d-9bb5a0ed0abf button.colab-df-convert');\n",
              "        buttonEl.style.display =\n",
              "          google.colab.kernel.accessAllowed ? 'block' : 'none';\n",
              "\n",
              "        async function convertToInteractive(key) {\n",
              "          const element = document.querySelector('#df-fba442ee-dbc0-432e-ae4d-9bb5a0ed0abf');\n",
              "          const dataTable =\n",
              "            await google.colab.kernel.invokeFunction('convertToInteractive',\n",
              "                                                     [key], {});\n",
              "          if (!dataTable) return;\n",
              "\n",
              "          const docLinkHtml = 'Like what you see? Visit the ' +\n",
              "            '<a target=\"_blank\" href=https://colab.research.google.com/notebooks/data_table.ipynb>data table notebook</a>'\n",
              "            + ' to learn more about interactive tables.';\n",
              "          element.innerHTML = '';\n",
              "          dataTable['output_type'] = 'display_data';\n",
              "          await google.colab.output.renderOutput(dataTable, element);\n",
              "          const docLink = document.createElement('div');\n",
              "          docLink.innerHTML = docLinkHtml;\n",
              "          element.appendChild(docLink);\n",
              "        }\n",
              "      </script>\n",
              "    </div>\n",
              "  </div>\n",
              "  "
            ]
          },
          "metadata": {},
          "execution_count": 11
        }
      ]
    },
    {
      "cell_type": "code",
      "source": [
        "def data_weather_to_X_and_y(data_weather, window_size=60):\n",
        "  data_weather_as_np = data_weather.to_numpy()\n",
        "  X = []\n",
        "  y = []\n",
        "  for i in range(len(data_weather_as_np)-window_size):\n",
        "    row = [[a] for a in data_weather_as_np[i:i+window_size]]\n",
        "    X.append(row)\n",
        "    label = data_weather_as_np[i+window_size]\n",
        "    y.append(label)\n",
        "  return np.array(X), np.array(y)"
      ],
      "metadata": {
        "id": "q-P1OOyEO-HW"
      },
      "execution_count": 12,
      "outputs": []
    },
    {
      "cell_type": "code",
      "source": [
        "WINDOW_SIZE = 60\n",
        "X1, y1 = data_weather_to_X_and_y(Rainfall_for_month, WINDOW_SIZE)\n",
        "X1.shape, y1.shape"
      ],
      "metadata": {
        "colab": {
          "base_uri": "https://localhost:8080/"
        },
        "id": "LRFGYJBJP09N",
        "outputId": "12774d15-55f9-4346-d7bc-4dd8c07eaabf"
      },
      "execution_count": 13,
      "outputs": [
        {
          "output_type": "execute_result",
          "data": {
            "text/plain": [
              "((3995, 60, 1), (3995,))"
            ]
          },
          "metadata": {},
          "execution_count": 13
        }
      ]
    },
    {
      "cell_type": "code",
      "source": [
        "X_train1, y_train1 = X1[:3100], y1[:3100]\n",
        "X_val1, y_val1 = X1[3100:3600], y1[3100:3600]\n",
        "X_test1, y_test1 = X1[3600:], y1[3600:]\n",
        "X_train1.shape, y_train1.shape, X_val1.shape, y_val1.shape, X_test1.shape, y_test1.shape"
      ],
      "metadata": {
        "colab": {
          "base_uri": "https://localhost:8080/"
        },
        "id": "kV5FojExQD92",
        "outputId": "d8e35d6d-b7e5-43e2-ca4a-dbf4c8384fe1"
      },
      "execution_count": 14,
      "outputs": [
        {
          "output_type": "execute_result",
          "data": {
            "text/plain": [
              "((3100, 60, 1), (3100,), (500, 60, 1), (500,), (395, 60, 1), (395,))"
            ]
          },
          "metadata": {},
          "execution_count": 14
        }
      ]
    },
    {
      "cell_type": "code",
      "source": [
        "from tensorflow.keras.models import Sequential\n",
        "from tensorflow.keras.layers import *\n",
        "from tensorflow.keras.callbacks import ModelCheckpoint\n",
        "from tensorflow.keras.losses import MeanSquaredError\n",
        "from tensorflow.keras.metrics import RootMeanSquaredError\n",
        "from tensorflow.keras.optimizers import Adam\n",
        "\n",
        "model1 = Sequential()\n",
        "model1.add(InputLayer((60, 1)))\n",
        "model1.add(LSTM(64))\n",
        "model1.add(Dense(10, 'relu'))\n",
        "model1.add(Dense(1, 'linear'))\n",
        "\n",
        "model1.summary()"
      ],
      "metadata": {
        "colab": {
          "base_uri": "https://localhost:8080/"
        },
        "id": "AsozZM7yS28R",
        "outputId": "094e8d58-b515-4063-9eb9-0fdb24be6ea6"
      },
      "execution_count": 15,
      "outputs": [
        {
          "output_type": "stream",
          "name": "stdout",
          "text": [
            "Model: \"sequential\"\n",
            "_________________________________________________________________\n",
            " Layer (type)                Output Shape              Param #   \n",
            "=================================================================\n",
            " lstm (LSTM)                 (None, 64)                16896     \n",
            "                                                                 \n",
            " dense (Dense)               (None, 10)                650       \n",
            "                                                                 \n",
            " dense_1 (Dense)             (None, 1)                 11        \n",
            "                                                                 \n",
            "=================================================================\n",
            "Total params: 17,557\n",
            "Trainable params: 17,557\n",
            "Non-trainable params: 0\n",
            "_________________________________________________________________\n"
          ]
        }
      ]
    },
    {
      "cell_type": "code",
      "source": [
        "cp1 = ModelCheckpoint('model1/', save_best_only=True)\n",
        "model1.compile(loss=MeanSquaredError(), optimizer=Adam(learning_rate=0.001), metrics=[RootMeanSquaredError()])"
      ],
      "metadata": {
        "id": "MTOQP3xmUu_U"
      },
      "execution_count": 16,
      "outputs": []
    },
    {
      "cell_type": "code",
      "source": [
        "model1.fit(X_train1, y_train1, validation_data=(X_val1, y_val1), epochs=60,callbacks=[cp1])"
      ],
      "metadata": {
        "colab": {
          "base_uri": "https://localhost:8080/"
        },
        "id": "L8SNba9JTHh2",
        "outputId": "84581cb5-e18c-4684-d9d4-9ff7281849f1"
      },
      "execution_count": 17,
      "outputs": [
        {
          "output_type": "stream",
          "name": "stdout",
          "text": [
            "Epoch 1/60\n",
            "97/97 [==============================] - ETA: 0s - loss: 0.1876 - root_mean_squared_error: 0.4332"
          ]
        },
        {
          "output_type": "stream",
          "name": "stderr",
          "text": [
            "WARNING:absl:Found untraced functions such as lstm_cell_layer_call_fn, lstm_cell_layer_call_and_return_conditional_losses while saving (showing 2 of 2). These functions will not be directly callable after loading.\n"
          ]
        },
        {
          "output_type": "stream",
          "name": "stdout",
          "text": [
            "INFO:tensorflow:Assets written to: model1/assets\n"
          ]
        },
        {
          "output_type": "stream",
          "name": "stderr",
          "text": [
            "INFO:tensorflow:Assets written to: model1/assets\n",
            "WARNING:absl:<keras.layers.recurrent.LSTMCell object at 0x7f5fddd40390> has the same name 'LSTMCell' as a built-in Keras object. Consider renaming <class 'keras.layers.recurrent.LSTMCell'> to avoid naming conflicts when loading with `tf.keras.models.load_model`. If renaming is not possible, pass the object in the `custom_objects` parameter of the load function.\n"
          ]
        },
        {
          "output_type": "stream",
          "name": "stdout",
          "text": [
            "\b\b\b\b\b\b\b\b\b\b\b\b\b\b\b\b\b\b\b\b\b\b\b\b\b\b\b\b\b\b\b\b\b\b\b\b\b\b\b\b\b\b\b\b\b\b\b\b\b\b\b\b\b\b\b\b\b\b\b\b\b\b\b\b\b\b\b\b\b\b\b\b\b\b\b\b\b\b\b\b\b\b\b\b\b\b\b\b\b\b\b\b\b\b\b\b\b\r97/97 [==============================] - 10s 78ms/step - loss: 0.1876 - root_mean_squared_error: 0.4332 - val_loss: 0.0395 - val_root_mean_squared_error: 0.1987\n",
            "Epoch 2/60\n",
            "96/97 [============================>.] - ETA: 0s - loss: 0.0990 - root_mean_squared_error: 0.3147"
          ]
        },
        {
          "output_type": "stream",
          "name": "stderr",
          "text": [
            "WARNING:absl:Found untraced functions such as lstm_cell_layer_call_fn, lstm_cell_layer_call_and_return_conditional_losses while saving (showing 2 of 2). These functions will not be directly callable after loading.\n"
          ]
        },
        {
          "output_type": "stream",
          "name": "stdout",
          "text": [
            "INFO:tensorflow:Assets written to: model1/assets\n"
          ]
        },
        {
          "output_type": "stream",
          "name": "stderr",
          "text": [
            "INFO:tensorflow:Assets written to: model1/assets\n",
            "WARNING:absl:<keras.layers.recurrent.LSTMCell object at 0x7f5fddd40390> has the same name 'LSTMCell' as a built-in Keras object. Consider renaming <class 'keras.layers.recurrent.LSTMCell'> to avoid naming conflicts when loading with `tf.keras.models.load_model`. If renaming is not possible, pass the object in the `custom_objects` parameter of the load function.\n"
          ]
        },
        {
          "output_type": "stream",
          "name": "stdout",
          "text": [
            "\b\b\b\b\b\b\b\b\b\b\b\b\b\b\b\b\b\b\b\b\b\b\b\b\b\b\b\b\b\b\b\b\b\b\b\b\b\b\b\b\b\b\b\b\b\b\b\b\b\b\b\b\b\b\b\b\b\b\b\b\b\b\b\b\b\b\b\b\b\b\b\b\b\b\b\b\b\b\b\b\b\b\b\b\b\b\b\b\b\b\b\b\b\b\b\b\b\r97/97 [==============================] - 7s 71ms/step - loss: 0.0982 - root_mean_squared_error: 0.3134 - val_loss: 0.0345 - val_root_mean_squared_error: 0.1858\n",
            "Epoch 3/60\n",
            "97/97 [==============================] - ETA: 0s - loss: 0.0837 - root_mean_squared_error: 0.2894"
          ]
        },
        {
          "output_type": "stream",
          "name": "stderr",
          "text": [
            "WARNING:absl:Found untraced functions such as lstm_cell_layer_call_fn, lstm_cell_layer_call_and_return_conditional_losses while saving (showing 2 of 2). These functions will not be directly callable after loading.\n"
          ]
        },
        {
          "output_type": "stream",
          "name": "stdout",
          "text": [
            "INFO:tensorflow:Assets written to: model1/assets\n"
          ]
        },
        {
          "output_type": "stream",
          "name": "stderr",
          "text": [
            "INFO:tensorflow:Assets written to: model1/assets\n",
            "WARNING:absl:<keras.layers.recurrent.LSTMCell object at 0x7f5fddd40390> has the same name 'LSTMCell' as a built-in Keras object. Consider renaming <class 'keras.layers.recurrent.LSTMCell'> to avoid naming conflicts when loading with `tf.keras.models.load_model`. If renaming is not possible, pass the object in the `custom_objects` parameter of the load function.\n"
          ]
        },
        {
          "output_type": "stream",
          "name": "stdout",
          "text": [
            "\b\b\b\b\b\b\b\b\b\b\b\b\b\b\b\b\b\b\b\b\b\b\b\b\b\b\b\b\b\b\b\b\b\b\b\b\b\b\b\b\b\b\b\b\b\b\b\b\b\b\b\b\b\b\b\b\b\b\b\b\b\b\b\b\b\b\b\b\b\b\b\b\b\b\b\b\b\b\b\b\b\b\b\b\b\b\b\b\b\b\b\b\b\b\b\b\b\r97/97 [==============================] - 8s 81ms/step - loss: 0.0837 - root_mean_squared_error: 0.2894 - val_loss: 0.0269 - val_root_mean_squared_error: 0.1641\n",
            "Epoch 4/60\n",
            "97/97 [==============================] - 2s 25ms/step - loss: 0.0799 - root_mean_squared_error: 0.2826 - val_loss: 0.0281 - val_root_mean_squared_error: 0.1677\n",
            "Epoch 5/60\n",
            "97/97 [==============================] - ETA: 0s - loss: 0.0754 - root_mean_squared_error: 0.2746"
          ]
        },
        {
          "output_type": "stream",
          "name": "stderr",
          "text": [
            "WARNING:absl:Found untraced functions such as lstm_cell_layer_call_fn, lstm_cell_layer_call_and_return_conditional_losses while saving (showing 2 of 2). These functions will not be directly callable after loading.\n"
          ]
        },
        {
          "output_type": "stream",
          "name": "stdout",
          "text": [
            "INFO:tensorflow:Assets written to: model1/assets\n"
          ]
        },
        {
          "output_type": "stream",
          "name": "stderr",
          "text": [
            "INFO:tensorflow:Assets written to: model1/assets\n",
            "WARNING:absl:<keras.layers.recurrent.LSTMCell object at 0x7f5fddd40390> has the same name 'LSTMCell' as a built-in Keras object. Consider renaming <class 'keras.layers.recurrent.LSTMCell'> to avoid naming conflicts when loading with `tf.keras.models.load_model`. If renaming is not possible, pass the object in the `custom_objects` parameter of the load function.\n"
          ]
        },
        {
          "output_type": "stream",
          "name": "stdout",
          "text": [
            "\b\b\b\b\b\b\b\b\b\b\b\b\b\b\b\b\b\b\b\b\b\b\b\b\b\b\b\b\b\b\b\b\b\b\b\b\b\b\b\b\b\b\b\b\b\b\b\b\b\b\b\b\b\b\b\b\b\b\b\b\b\b\b\b\b\b\b\b\b\b\b\b\b\b\b\b\b\b\b\b\b\b\b\b\b\b\b\b\b\b\b\b\b\b\b\b\b\r97/97 [==============================] - 7s 78ms/step - loss: 0.0754 - root_mean_squared_error: 0.2746 - val_loss: 0.0254 - val_root_mean_squared_error: 0.1595\n",
            "Epoch 6/60\n",
            "97/97 [==============================] - 2s 25ms/step - loss: 0.0759 - root_mean_squared_error: 0.2755 - val_loss: 0.0271 - val_root_mean_squared_error: 0.1646\n",
            "Epoch 7/60\n",
            "97/97 [==============================] - ETA: 0s - loss: 0.0741 - root_mean_squared_error: 0.2722"
          ]
        },
        {
          "output_type": "stream",
          "name": "stderr",
          "text": [
            "WARNING:absl:Found untraced functions such as lstm_cell_layer_call_fn, lstm_cell_layer_call_and_return_conditional_losses while saving (showing 2 of 2). These functions will not be directly callable after loading.\n"
          ]
        },
        {
          "output_type": "stream",
          "name": "stdout",
          "text": [
            "INFO:tensorflow:Assets written to: model1/assets\n"
          ]
        },
        {
          "output_type": "stream",
          "name": "stderr",
          "text": [
            "INFO:tensorflow:Assets written to: model1/assets\n",
            "WARNING:absl:<keras.layers.recurrent.LSTMCell object at 0x7f5fddd40390> has the same name 'LSTMCell' as a built-in Keras object. Consider renaming <class 'keras.layers.recurrent.LSTMCell'> to avoid naming conflicts when loading with `tf.keras.models.load_model`. If renaming is not possible, pass the object in the `custom_objects` parameter of the load function.\n"
          ]
        },
        {
          "output_type": "stream",
          "name": "stdout",
          "text": [
            "\b\b\b\b\b\b\b\b\b\b\b\b\b\b\b\b\b\b\b\b\b\b\b\b\b\b\b\b\b\b\b\b\b\b\b\b\b\b\b\b\b\b\b\b\b\b\b\b\b\b\b\b\b\b\b\b\b\b\b\b\b\b\b\b\b\b\b\b\b\b\b\b\b\b\b\b\b\b\b\b\b\b\b\b\b\b\b\b\b\b\b\b\b\b\b\b\b\r97/97 [==============================] - 7s 72ms/step - loss: 0.0741 - root_mean_squared_error: 0.2722 - val_loss: 0.0244 - val_root_mean_squared_error: 0.1562\n",
            "Epoch 8/60\n",
            "97/97 [==============================] - 2s 25ms/step - loss: 0.0725 - root_mean_squared_error: 0.2693 - val_loss: 0.0322 - val_root_mean_squared_error: 0.1794\n",
            "Epoch 9/60\n",
            "97/97 [==============================] - ETA: 0s - loss: 0.0733 - root_mean_squared_error: 0.2707"
          ]
        },
        {
          "output_type": "stream",
          "name": "stderr",
          "text": [
            "WARNING:absl:Found untraced functions such as lstm_cell_layer_call_fn, lstm_cell_layer_call_and_return_conditional_losses while saving (showing 2 of 2). These functions will not be directly callable after loading.\n"
          ]
        },
        {
          "output_type": "stream",
          "name": "stdout",
          "text": [
            "INFO:tensorflow:Assets written to: model1/assets\n"
          ]
        },
        {
          "output_type": "stream",
          "name": "stderr",
          "text": [
            "INFO:tensorflow:Assets written to: model1/assets\n",
            "WARNING:absl:<keras.layers.recurrent.LSTMCell object at 0x7f5fddd40390> has the same name 'LSTMCell' as a built-in Keras object. Consider renaming <class 'keras.layers.recurrent.LSTMCell'> to avoid naming conflicts when loading with `tf.keras.models.load_model`. If renaming is not possible, pass the object in the `custom_objects` parameter of the load function.\n"
          ]
        },
        {
          "output_type": "stream",
          "name": "stdout",
          "text": [
            "\b\b\b\b\b\b\b\b\b\b\b\b\b\b\b\b\b\b\b\b\b\b\b\b\b\b\b\b\b\b\b\b\b\b\b\b\b\b\b\b\b\b\b\b\b\b\b\b\b\b\b\b\b\b\b\b\b\b\b\b\b\b\b\b\b\b\b\b\b\b\b\b\b\b\b\b\b\b\b\b\b\b\b\b\b\b\b\b\b\b\b\b\b\b\b\b\b\r97/97 [==============================] - 7s 73ms/step - loss: 0.0733 - root_mean_squared_error: 0.2707 - val_loss: 0.0239 - val_root_mean_squared_error: 0.1545\n",
            "Epoch 10/60\n",
            "97/97 [==============================] - 3s 26ms/step - loss: 0.0712 - root_mean_squared_error: 0.2668 - val_loss: 0.0263 - val_root_mean_squared_error: 0.1620\n",
            "Epoch 11/60\n",
            "95/97 [============================>.] - ETA: 0s - loss: 0.0693 - root_mean_squared_error: 0.2632"
          ]
        },
        {
          "output_type": "stream",
          "name": "stderr",
          "text": [
            "WARNING:absl:Found untraced functions such as lstm_cell_layer_call_fn, lstm_cell_layer_call_and_return_conditional_losses while saving (showing 2 of 2). These functions will not be directly callable after loading.\n"
          ]
        },
        {
          "output_type": "stream",
          "name": "stdout",
          "text": [
            "INFO:tensorflow:Assets written to: model1/assets\n"
          ]
        },
        {
          "output_type": "stream",
          "name": "stderr",
          "text": [
            "INFO:tensorflow:Assets written to: model1/assets\n",
            "WARNING:absl:<keras.layers.recurrent.LSTMCell object at 0x7f5fddd40390> has the same name 'LSTMCell' as a built-in Keras object. Consider renaming <class 'keras.layers.recurrent.LSTMCell'> to avoid naming conflicts when loading with `tf.keras.models.load_model`. If renaming is not possible, pass the object in the `custom_objects` parameter of the load function.\n"
          ]
        },
        {
          "output_type": "stream",
          "name": "stdout",
          "text": [
            "\b\b\b\b\b\b\b\b\b\b\b\b\b\b\b\b\b\b\b\b\b\b\b\b\b\b\b\b\b\b\b\b\b\b\b\b\b\b\b\b\b\b\b\b\b\b\b\b\b\b\b\b\b\b\b\b\b\b\b\b\b\b\b\b\b\b\b\b\b\b\b\b\b\b\b\b\b\b\b\b\b\b\b\b\b\b\b\b\b\b\b\b\b\b\b\b\b\r97/97 [==============================] - 7s 69ms/step - loss: 0.0705 - root_mean_squared_error: 0.2656 - val_loss: 0.0232 - val_root_mean_squared_error: 0.1524\n",
            "Epoch 12/60\n",
            "97/97 [==============================] - 3s 26ms/step - loss: 0.0711 - root_mean_squared_error: 0.2667 - val_loss: 0.0241 - val_root_mean_squared_error: 0.1552\n",
            "Epoch 13/60\n",
            "97/97 [==============================] - 3s 26ms/step - loss: 0.0719 - root_mean_squared_error: 0.2681 - val_loss: 0.0246 - val_root_mean_squared_error: 0.1568\n",
            "Epoch 14/60\n",
            "97/97 [==============================] - 2s 25ms/step - loss: 0.0705 - root_mean_squared_error: 0.2656 - val_loss: 0.0259 - val_root_mean_squared_error: 0.1610\n",
            "Epoch 15/60\n",
            "97/97 [==============================] - 3s 26ms/step - loss: 0.0706 - root_mean_squared_error: 0.2657 - val_loss: 0.0241 - val_root_mean_squared_error: 0.1553\n",
            "Epoch 16/60\n",
            "97/97 [==============================] - 3s 26ms/step - loss: 0.0698 - root_mean_squared_error: 0.2641 - val_loss: 0.0234 - val_root_mean_squared_error: 0.1528\n",
            "Epoch 17/60\n",
            "97/97 [==============================] - 2s 26ms/step - loss: 0.0689 - root_mean_squared_error: 0.2625 - val_loss: 0.0242 - val_root_mean_squared_error: 0.1554\n",
            "Epoch 18/60\n",
            "97/97 [==============================] - 3s 27ms/step - loss: 0.0706 - root_mean_squared_error: 0.2657 - val_loss: 0.0241 - val_root_mean_squared_error: 0.1552\n",
            "Epoch 19/60\n",
            "95/97 [============================>.] - ETA: 0s - loss: 0.0579 - root_mean_squared_error: 0.2407"
          ]
        },
        {
          "output_type": "stream",
          "name": "stderr",
          "text": [
            "WARNING:absl:Found untraced functions such as lstm_cell_layer_call_fn, lstm_cell_layer_call_and_return_conditional_losses while saving (showing 2 of 2). These functions will not be directly callable after loading.\n"
          ]
        },
        {
          "output_type": "stream",
          "name": "stdout",
          "text": [
            "INFO:tensorflow:Assets written to: model1/assets\n"
          ]
        },
        {
          "output_type": "stream",
          "name": "stderr",
          "text": [
            "INFO:tensorflow:Assets written to: model1/assets\n",
            "WARNING:absl:<keras.layers.recurrent.LSTMCell object at 0x7f5fddd40390> has the same name 'LSTMCell' as a built-in Keras object. Consider renaming <class 'keras.layers.recurrent.LSTMCell'> to avoid naming conflicts when loading with `tf.keras.models.load_model`. If renaming is not possible, pass the object in the `custom_objects` parameter of the load function.\n"
          ]
        },
        {
          "output_type": "stream",
          "name": "stdout",
          "text": [
            "\b\b\b\b\b\b\b\b\b\b\b\b\b\b\b\b\b\b\b\b\b\b\b\b\b\b\b\b\b\b\b\b\b\b\b\b\b\b\b\b\b\b\b\b\b\b\b\b\b\b\b\b\b\b\b\b\b\b\b\b\b\b\b\b\b\b\b\b\b\b\b\b\b\b\b\b\b\b\b\b\b\b\b\b\b\b\b\b\b\b\b\b\b\b\b\b\b\r97/97 [==============================] - 7s 75ms/step - loss: 0.0684 - root_mean_squared_error: 0.2616 - val_loss: 0.0223 - val_root_mean_squared_error: 0.1494\n",
            "Epoch 20/60\n",
            "97/97 [==============================] - 3s 26ms/step - loss: 0.0688 - root_mean_squared_error: 0.2623 - val_loss: 0.0227 - val_root_mean_squared_error: 0.1506\n",
            "Epoch 21/60\n",
            "97/97 [==============================] - 3s 26ms/step - loss: 0.0680 - root_mean_squared_error: 0.2608 - val_loss: 0.0232 - val_root_mean_squared_error: 0.1523\n",
            "Epoch 22/60\n",
            "97/97 [==============================] - 3s 26ms/step - loss: 0.0681 - root_mean_squared_error: 0.2609 - val_loss: 0.0229 - val_root_mean_squared_error: 0.1513\n",
            "Epoch 23/60\n",
            "96/97 [============================>.] - ETA: 0s - loss: 0.0685 - root_mean_squared_error: 0.2616"
          ]
        },
        {
          "output_type": "stream",
          "name": "stderr",
          "text": [
            "WARNING:absl:Found untraced functions such as lstm_cell_layer_call_fn, lstm_cell_layer_call_and_return_conditional_losses while saving (showing 2 of 2). These functions will not be directly callable after loading.\n"
          ]
        },
        {
          "output_type": "stream",
          "name": "stdout",
          "text": [
            "INFO:tensorflow:Assets written to: model1/assets\n"
          ]
        },
        {
          "output_type": "stream",
          "name": "stderr",
          "text": [
            "INFO:tensorflow:Assets written to: model1/assets\n",
            "WARNING:absl:<keras.layers.recurrent.LSTMCell object at 0x7f5fddd40390> has the same name 'LSTMCell' as a built-in Keras object. Consider renaming <class 'keras.layers.recurrent.LSTMCell'> to avoid naming conflicts when loading with `tf.keras.models.load_model`. If renaming is not possible, pass the object in the `custom_objects` parameter of the load function.\n"
          ]
        },
        {
          "output_type": "stream",
          "name": "stdout",
          "text": [
            "\b\b\b\b\b\b\b\b\b\b\b\b\b\b\b\b\b\b\b\b\b\b\b\b\b\b\b\b\b\b\b\b\b\b\b\b\b\b\b\b\b\b\b\b\b\b\b\b\b\b\b\b\b\b\b\b\b\b\b\b\b\b\b\b\b\b\b\b\b\b\b\b\b\b\b\b\b\b\b\b\b\b\b\b\b\b\b\b\b\b\b\b\b\b\b\b\b\r97/97 [==============================] - 7s 73ms/step - loss: 0.0680 - root_mean_squared_error: 0.2609 - val_loss: 0.0221 - val_root_mean_squared_error: 0.1487\n",
            "Epoch 24/60\n",
            "97/97 [==============================] - 3s 27ms/step - loss: 0.0680 - root_mean_squared_error: 0.2608 - val_loss: 0.0244 - val_root_mean_squared_error: 0.1561\n",
            "Epoch 25/60\n",
            "97/97 [==============================] - ETA: 0s - loss: 0.0657 - root_mean_squared_error: 0.2563"
          ]
        },
        {
          "output_type": "stream",
          "name": "stderr",
          "text": [
            "WARNING:absl:Found untraced functions such as lstm_cell_layer_call_fn, lstm_cell_layer_call_and_return_conditional_losses while saving (showing 2 of 2). These functions will not be directly callable after loading.\n"
          ]
        },
        {
          "output_type": "stream",
          "name": "stdout",
          "text": [
            "INFO:tensorflow:Assets written to: model1/assets\n"
          ]
        },
        {
          "output_type": "stream",
          "name": "stderr",
          "text": [
            "INFO:tensorflow:Assets written to: model1/assets\n",
            "WARNING:absl:<keras.layers.recurrent.LSTMCell object at 0x7f5fddd40390> has the same name 'LSTMCell' as a built-in Keras object. Consider renaming <class 'keras.layers.recurrent.LSTMCell'> to avoid naming conflicts when loading with `tf.keras.models.load_model`. If renaming is not possible, pass the object in the `custom_objects` parameter of the load function.\n"
          ]
        },
        {
          "output_type": "stream",
          "name": "stdout",
          "text": [
            "\b\b\b\b\b\b\b\b\b\b\b\b\b\b\b\b\b\b\b\b\b\b\b\b\b\b\b\b\b\b\b\b\b\b\b\b\b\b\b\b\b\b\b\b\b\b\b\b\b\b\b\b\b\b\b\b\b\b\b\b\b\b\b\b\b\b\b\b\b\b\b\b\b\b\b\b\b\b\b\b\b\b\b\b\b\b\b\b\b\b\b\b\b\b\b\b\b\r97/97 [==============================] - 7s 70ms/step - loss: 0.0657 - root_mean_squared_error: 0.2563 - val_loss: 0.0203 - val_root_mean_squared_error: 0.1426\n",
            "Epoch 26/60\n",
            "97/97 [==============================] - 3s 26ms/step - loss: 0.0656 - root_mean_squared_error: 0.2562 - val_loss: 0.0289 - val_root_mean_squared_error: 0.1700\n",
            "Epoch 27/60\n",
            "96/97 [============================>.] - ETA: 0s - loss: 0.0663 - root_mean_squared_error: 0.2575"
          ]
        },
        {
          "output_type": "stream",
          "name": "stderr",
          "text": [
            "WARNING:absl:Found untraced functions such as lstm_cell_layer_call_fn, lstm_cell_layer_call_and_return_conditional_losses while saving (showing 2 of 2). These functions will not be directly callable after loading.\n"
          ]
        },
        {
          "output_type": "stream",
          "name": "stdout",
          "text": [
            "INFO:tensorflow:Assets written to: model1/assets\n"
          ]
        },
        {
          "output_type": "stream",
          "name": "stderr",
          "text": [
            "INFO:tensorflow:Assets written to: model1/assets\n",
            "WARNING:absl:<keras.layers.recurrent.LSTMCell object at 0x7f5fddd40390> has the same name 'LSTMCell' as a built-in Keras object. Consider renaming <class 'keras.layers.recurrent.LSTMCell'> to avoid naming conflicts when loading with `tf.keras.models.load_model`. If renaming is not possible, pass the object in the `custom_objects` parameter of the load function.\n"
          ]
        },
        {
          "output_type": "stream",
          "name": "stdout",
          "text": [
            "\b\b\b\b\b\b\b\b\b\b\b\b\b\b\b\b\b\b\b\b\b\b\b\b\b\b\b\b\b\b\b\b\b\b\b\b\b\b\b\b\b\b\b\b\b\b\b\b\b\b\b\b\b\b\b\b\b\b\b\b\b\b\b\b\b\b\b\b\b\b\b\b\b\b\b\b\b\b\b\b\b\b\b\b\b\b\b\b\b\b\b\b\b\b\b\b\b\r97/97 [==============================] - 7s 74ms/step - loss: 0.0663 - root_mean_squared_error: 0.2575 - val_loss: 0.0201 - val_root_mean_squared_error: 0.1418\n",
            "Epoch 28/60\n",
            "97/97 [==============================] - 3s 27ms/step - loss: 0.0658 - root_mean_squared_error: 0.2566 - val_loss: 0.0221 - val_root_mean_squared_error: 0.1486\n",
            "Epoch 29/60\n",
            "97/97 [==============================] - 3s 26ms/step - loss: 0.0632 - root_mean_squared_error: 0.2514 - val_loss: 0.0218 - val_root_mean_squared_error: 0.1478\n",
            "Epoch 30/60\n",
            "97/97 [==============================] - 3s 26ms/step - loss: 0.0682 - root_mean_squared_error: 0.2612 - val_loss: 0.0231 - val_root_mean_squared_error: 0.1520\n",
            "Epoch 31/60\n",
            "97/97 [==============================] - 2s 25ms/step - loss: 0.0645 - root_mean_squared_error: 0.2539 - val_loss: 0.0204 - val_root_mean_squared_error: 0.1428\n",
            "Epoch 32/60\n",
            "97/97 [==============================] - 2s 26ms/step - loss: 0.0654 - root_mean_squared_error: 0.2557 - val_loss: 0.0243 - val_root_mean_squared_error: 0.1560\n",
            "Epoch 33/60\n",
            "97/97 [==============================] - 3s 26ms/step - loss: 0.0652 - root_mean_squared_error: 0.2554 - val_loss: 0.0222 - val_root_mean_squared_error: 0.1490\n",
            "Epoch 34/60\n",
            "97/97 [==============================] - 3s 26ms/step - loss: 0.0632 - root_mean_squared_error: 0.2514 - val_loss: 0.0263 - val_root_mean_squared_error: 0.1622\n",
            "Epoch 35/60\n",
            "97/97 [==============================] - 3s 26ms/step - loss: 0.0624 - root_mean_squared_error: 0.2499 - val_loss: 0.0235 - val_root_mean_squared_error: 0.1532\n",
            "Epoch 36/60\n",
            "97/97 [==============================] - 3s 26ms/step - loss: 0.0674 - root_mean_squared_error: 0.2597 - val_loss: 0.0233 - val_root_mean_squared_error: 0.1525\n",
            "Epoch 37/60\n",
            "97/97 [==============================] - 3s 26ms/step - loss: 0.0646 - root_mean_squared_error: 0.2541 - val_loss: 0.0222 - val_root_mean_squared_error: 0.1489\n",
            "Epoch 38/60\n",
            "97/97 [==============================] - ETA: 0s - loss: 0.0613 - root_mean_squared_error: 0.2477"
          ]
        },
        {
          "output_type": "stream",
          "name": "stderr",
          "text": [
            "WARNING:absl:Found untraced functions such as lstm_cell_layer_call_fn, lstm_cell_layer_call_and_return_conditional_losses while saving (showing 2 of 2). These functions will not be directly callable after loading.\n"
          ]
        },
        {
          "output_type": "stream",
          "name": "stdout",
          "text": [
            "INFO:tensorflow:Assets written to: model1/assets\n"
          ]
        },
        {
          "output_type": "stream",
          "name": "stderr",
          "text": [
            "INFO:tensorflow:Assets written to: model1/assets\n",
            "WARNING:absl:<keras.layers.recurrent.LSTMCell object at 0x7f5fddd40390> has the same name 'LSTMCell' as a built-in Keras object. Consider renaming <class 'keras.layers.recurrent.LSTMCell'> to avoid naming conflicts when loading with `tf.keras.models.load_model`. If renaming is not possible, pass the object in the `custom_objects` parameter of the load function.\n"
          ]
        },
        {
          "output_type": "stream",
          "name": "stdout",
          "text": [
            "\b\b\b\b\b\b\b\b\b\b\b\b\b\b\b\b\b\b\b\b\b\b\b\b\b\b\b\b\b\b\b\b\b\b\b\b\b\b\b\b\b\b\b\b\b\b\b\b\b\b\b\b\b\b\b\b\b\b\b\b\b\b\b\b\b\b\b\b\b\b\b\b\b\b\b\b\b\b\b\b\b\b\b\b\b\b\b\b\b\b\b\b\b\b\b\b\b\r97/97 [==============================] - 7s 69ms/step - loss: 0.0613 - root_mean_squared_error: 0.2477 - val_loss: 0.0198 - val_root_mean_squared_error: 0.1408\n",
            "Epoch 39/60\n",
            "97/97 [==============================] - 2s 25ms/step - loss: 0.0621 - root_mean_squared_error: 0.2491 - val_loss: 0.0200 - val_root_mean_squared_error: 0.1413\n",
            "Epoch 40/60\n",
            "97/97 [==============================] - 3s 26ms/step - loss: 0.0621 - root_mean_squared_error: 0.2492 - val_loss: 0.0203 - val_root_mean_squared_error: 0.1423\n",
            "Epoch 41/60\n",
            "97/97 [==============================] - ETA: 0s - loss: 0.0611 - root_mean_squared_error: 0.2472"
          ]
        },
        {
          "output_type": "stream",
          "name": "stderr",
          "text": [
            "WARNING:absl:Found untraced functions such as lstm_cell_layer_call_fn, lstm_cell_layer_call_and_return_conditional_losses while saving (showing 2 of 2). These functions will not be directly callable after loading.\n"
          ]
        },
        {
          "output_type": "stream",
          "name": "stdout",
          "text": [
            "INFO:tensorflow:Assets written to: model1/assets\n"
          ]
        },
        {
          "output_type": "stream",
          "name": "stderr",
          "text": [
            "INFO:tensorflow:Assets written to: model1/assets\n",
            "WARNING:absl:<keras.layers.recurrent.LSTMCell object at 0x7f5fddd40390> has the same name 'LSTMCell' as a built-in Keras object. Consider renaming <class 'keras.layers.recurrent.LSTMCell'> to avoid naming conflicts when loading with `tf.keras.models.load_model`. If renaming is not possible, pass the object in the `custom_objects` parameter of the load function.\n"
          ]
        },
        {
          "output_type": "stream",
          "name": "stdout",
          "text": [
            "\b\b\b\b\b\b\b\b\b\b\b\b\b\b\b\b\b\b\b\b\b\b\b\b\b\b\b\b\b\b\b\b\b\b\b\b\b\b\b\b\b\b\b\b\b\b\b\b\b\b\b\b\b\b\b\b\b\b\b\b\b\b\b\b\b\b\b\b\b\b\b\b\b\b\b\b\b\b\b\b\b\b\b\b\b\b\b\b\b\b\b\b\b\b\b\b\b\r97/97 [==============================] - 7s 74ms/step - loss: 0.0611 - root_mean_squared_error: 0.2472 - val_loss: 0.0193 - val_root_mean_squared_error: 0.1388\n",
            "Epoch 42/60\n",
            "97/97 [==============================] - ETA: 0s - loss: 0.0591 - root_mean_squared_error: 0.2432"
          ]
        },
        {
          "output_type": "stream",
          "name": "stderr",
          "text": [
            "WARNING:absl:Found untraced functions such as lstm_cell_layer_call_fn, lstm_cell_layer_call_and_return_conditional_losses while saving (showing 2 of 2). These functions will not be directly callable after loading.\n"
          ]
        },
        {
          "output_type": "stream",
          "name": "stdout",
          "text": [
            "INFO:tensorflow:Assets written to: model1/assets\n"
          ]
        },
        {
          "output_type": "stream",
          "name": "stderr",
          "text": [
            "INFO:tensorflow:Assets written to: model1/assets\n",
            "WARNING:absl:<keras.layers.recurrent.LSTMCell object at 0x7f5fddd40390> has the same name 'LSTMCell' as a built-in Keras object. Consider renaming <class 'keras.layers.recurrent.LSTMCell'> to avoid naming conflicts when loading with `tf.keras.models.load_model`. If renaming is not possible, pass the object in the `custom_objects` parameter of the load function.\n"
          ]
        },
        {
          "output_type": "stream",
          "name": "stdout",
          "text": [
            "\b\b\b\b\b\b\b\b\b\b\b\b\b\b\b\b\b\b\b\b\b\b\b\b\b\b\b\b\b\b\b\b\b\b\b\b\b\b\b\b\b\b\b\b\b\b\b\b\b\b\b\b\b\b\b\b\b\b\b\b\b\b\b\b\b\b\b\b\b\b\b\b\b\b\b\b\b\b\b\b\b\b\b\b\b\b\b\b\b\b\b\b\b\b\b\b\b\r97/97 [==============================] - 7s 72ms/step - loss: 0.0591 - root_mean_squared_error: 0.2432 - val_loss: 0.0187 - val_root_mean_squared_error: 0.1366\n",
            "Epoch 43/60\n",
            "97/97 [==============================] - 3s 26ms/step - loss: 0.0652 - root_mean_squared_error: 0.2554 - val_loss: 0.0208 - val_root_mean_squared_error: 0.1443\n",
            "Epoch 44/60\n",
            "97/97 [==============================] - 2s 26ms/step - loss: 0.0616 - root_mean_squared_error: 0.2481 - val_loss: 0.0216 - val_root_mean_squared_error: 0.1470\n",
            "Epoch 45/60\n",
            "97/97 [==============================] - 2s 26ms/step - loss: 0.0628 - root_mean_squared_error: 0.2506 - val_loss: 0.0226 - val_root_mean_squared_error: 0.1503\n",
            "Epoch 46/60\n",
            "97/97 [==============================] - 3s 26ms/step - loss: 0.0630 - root_mean_squared_error: 0.2511 - val_loss: 0.0190 - val_root_mean_squared_error: 0.1379\n",
            "Epoch 47/60\n",
            "97/97 [==============================] - ETA: 0s - loss: 0.0601 - root_mean_squared_error: 0.2451"
          ]
        },
        {
          "output_type": "stream",
          "name": "stderr",
          "text": [
            "WARNING:absl:Found untraced functions such as lstm_cell_layer_call_fn, lstm_cell_layer_call_and_return_conditional_losses while saving (showing 2 of 2). These functions will not be directly callable after loading.\n"
          ]
        },
        {
          "output_type": "stream",
          "name": "stdout",
          "text": [
            "INFO:tensorflow:Assets written to: model1/assets\n"
          ]
        },
        {
          "output_type": "stream",
          "name": "stderr",
          "text": [
            "INFO:tensorflow:Assets written to: model1/assets\n",
            "WARNING:absl:<keras.layers.recurrent.LSTMCell object at 0x7f5fddd40390> has the same name 'LSTMCell' as a built-in Keras object. Consider renaming <class 'keras.layers.recurrent.LSTMCell'> to avoid naming conflicts when loading with `tf.keras.models.load_model`. If renaming is not possible, pass the object in the `custom_objects` parameter of the load function.\n"
          ]
        },
        {
          "output_type": "stream",
          "name": "stdout",
          "text": [
            "\b\b\b\b\b\b\b\b\b\b\b\b\b\b\b\b\b\b\b\b\b\b\b\b\b\b\b\b\b\b\b\b\b\b\b\b\b\b\b\b\b\b\b\b\b\b\b\b\b\b\b\b\b\b\b\b\b\b\b\b\b\b\b\b\b\b\b\b\b\b\b\b\b\b\b\b\b\b\b\b\b\b\b\b\b\b\b\b\b\b\b\b\b\b\b\b\b\r97/97 [==============================] - 7s 69ms/step - loss: 0.0601 - root_mean_squared_error: 0.2451 - val_loss: 0.0183 - val_root_mean_squared_error: 0.1355\n",
            "Epoch 48/60\n",
            "97/97 [==============================] - 3s 26ms/step - loss: 0.0575 - root_mean_squared_error: 0.2398 - val_loss: 0.0217 - val_root_mean_squared_error: 0.1473\n",
            "Epoch 49/60\n",
            "97/97 [==============================] - 2s 25ms/step - loss: 0.0625 - root_mean_squared_error: 0.2500 - val_loss: 0.0244 - val_root_mean_squared_error: 0.1563\n",
            "Epoch 50/60\n",
            "97/97 [==============================] - 3s 26ms/step - loss: 0.0583 - root_mean_squared_error: 0.2414 - val_loss: 0.0199 - val_root_mean_squared_error: 0.1412\n",
            "Epoch 51/60\n",
            "97/97 [==============================] - 2s 26ms/step - loss: 0.0559 - root_mean_squared_error: 0.2365 - val_loss: 0.0224 - val_root_mean_squared_error: 0.1497\n",
            "Epoch 52/60\n",
            "97/97 [==============================] - 3s 27ms/step - loss: 0.0605 - root_mean_squared_error: 0.2460 - val_loss: 0.0212 - val_root_mean_squared_error: 0.1458\n",
            "Epoch 53/60\n",
            "97/97 [==============================] - 3s 26ms/step - loss: 0.0589 - root_mean_squared_error: 0.2427 - val_loss: 0.0235 - val_root_mean_squared_error: 0.1531\n",
            "Epoch 54/60\n",
            "97/97 [==============================] - ETA: 0s - loss: 0.0588 - root_mean_squared_error: 0.2425"
          ]
        },
        {
          "output_type": "stream",
          "name": "stderr",
          "text": [
            "WARNING:absl:Found untraced functions such as lstm_cell_layer_call_fn, lstm_cell_layer_call_and_return_conditional_losses while saving (showing 2 of 2). These functions will not be directly callable after loading.\n"
          ]
        },
        {
          "output_type": "stream",
          "name": "stdout",
          "text": [
            "INFO:tensorflow:Assets written to: model1/assets\n"
          ]
        },
        {
          "output_type": "stream",
          "name": "stderr",
          "text": [
            "INFO:tensorflow:Assets written to: model1/assets\n",
            "WARNING:absl:<keras.layers.recurrent.LSTMCell object at 0x7f5fddd40390> has the same name 'LSTMCell' as a built-in Keras object. Consider renaming <class 'keras.layers.recurrent.LSTMCell'> to avoid naming conflicts when loading with `tf.keras.models.load_model`. If renaming is not possible, pass the object in the `custom_objects` parameter of the load function.\n"
          ]
        },
        {
          "output_type": "stream",
          "name": "stdout",
          "text": [
            "\b\b\b\b\b\b\b\b\b\b\b\b\b\b\b\b\b\b\b\b\b\b\b\b\b\b\b\b\b\b\b\b\b\b\b\b\b\b\b\b\b\b\b\b\b\b\b\b\b\b\b\b\b\b\b\b\b\b\b\b\b\b\b\b\b\b\b\b\b\b\b\b\b\b\b\b\b\b\b\b\b\b\b\b\b\b\b\b\b\b\b\b\b\b\b\b\b\r97/97 [==============================] - 7s 74ms/step - loss: 0.0588 - root_mean_squared_error: 0.2425 - val_loss: 0.0176 - val_root_mean_squared_error: 0.1327\n",
            "Epoch 55/60\n",
            "97/97 [==============================] - 3s 26ms/step - loss: 0.0578 - root_mean_squared_error: 0.2405 - val_loss: 0.0220 - val_root_mean_squared_error: 0.1484\n",
            "Epoch 56/60\n",
            "97/97 [==============================] - 2s 26ms/step - loss: 0.0580 - root_mean_squared_error: 0.2409 - val_loss: 0.0192 - val_root_mean_squared_error: 0.1386\n",
            "Epoch 57/60\n",
            "97/97 [==============================] - 3s 26ms/step - loss: 0.0559 - root_mean_squared_error: 0.2365 - val_loss: 0.0205 - val_root_mean_squared_error: 0.1431\n",
            "Epoch 58/60\n",
            "97/97 [==============================] - 3s 26ms/step - loss: 0.0587 - root_mean_squared_error: 0.2422 - val_loss: 0.0219 - val_root_mean_squared_error: 0.1481\n",
            "Epoch 59/60\n",
            "97/97 [==============================] - 3s 26ms/step - loss: 0.0610 - root_mean_squared_error: 0.2469 - val_loss: 0.0208 - val_root_mean_squared_error: 0.1442\n",
            "Epoch 60/60\n",
            "97/97 [==============================] - 3s 26ms/step - loss: 0.0548 - root_mean_squared_error: 0.2340 - val_loss: 0.0210 - val_root_mean_squared_error: 0.1448\n"
          ]
        },
        {
          "output_type": "execute_result",
          "data": {
            "text/plain": [
              "<keras.callbacks.History at 0x7f5fddd40990>"
            ]
          },
          "metadata": {},
          "execution_count": 17
        }
      ]
    },
    {
      "cell_type": "code",
      "source": [
        "from tensorflow.keras.models import load_model\n",
        "model1 = load_model('model1/')"
      ],
      "metadata": {
        "id": "-E4DSGN-WZ7c"
      },
      "execution_count": 18,
      "outputs": []
    },
    {
      "cell_type": "code",
      "source": [
        "test_predictions = model1.predict(X_test1).flatten()\n",
        "test_results = pd.DataFrame(data={'Test Predictions of rainfall for month':test_predictions, 'Actuals':y_test1})\n",
        "test_results"
      ],
      "metadata": {
        "colab": {
          "base_uri": "https://localhost:8080/",
          "height": 423
        },
        "id": "ZvqR9jsXWkM9",
        "outputId": "60de5b24-3eb2-4217-b7f9-2fbd95bbc698"
      },
      "execution_count": 19,
      "outputs": [
        {
          "output_type": "execute_result",
          "data": {
            "text/plain": [
              "     Test Predictions of rainfall for month  Actuals\n",
              "0                                  0.030737     0.14\n",
              "1                                  0.154026     0.44\n",
              "2                                  0.495242     0.45\n",
              "3                                  0.464207     0.46\n",
              "4                                  0.413789     0.46\n",
              "..                                      ...      ...\n",
              "390                                0.534284     0.50\n",
              "391                                0.504884     0.50\n",
              "392                                0.497077     0.50\n",
              "393                                0.495200     0.50\n",
              "394                                0.492470     0.50\n",
              "\n",
              "[395 rows x 2 columns]"
            ],
            "text/html": [
              "\n",
              "  <div id=\"df-3a2b1846-6f06-4d90-80b8-b4ce00eeea08\">\n",
              "    <div class=\"colab-df-container\">\n",
              "      <div>\n",
              "<style scoped>\n",
              "    .dataframe tbody tr th:only-of-type {\n",
              "        vertical-align: middle;\n",
              "    }\n",
              "\n",
              "    .dataframe tbody tr th {\n",
              "        vertical-align: top;\n",
              "    }\n",
              "\n",
              "    .dataframe thead th {\n",
              "        text-align: right;\n",
              "    }\n",
              "</style>\n",
              "<table border=\"1\" class=\"dataframe\">\n",
              "  <thead>\n",
              "    <tr style=\"text-align: right;\">\n",
              "      <th></th>\n",
              "      <th>Test Predictions of rainfall for month</th>\n",
              "      <th>Actuals</th>\n",
              "    </tr>\n",
              "  </thead>\n",
              "  <tbody>\n",
              "    <tr>\n",
              "      <th>0</th>\n",
              "      <td>0.030737</td>\n",
              "      <td>0.14</td>\n",
              "    </tr>\n",
              "    <tr>\n",
              "      <th>1</th>\n",
              "      <td>0.154026</td>\n",
              "      <td>0.44</td>\n",
              "    </tr>\n",
              "    <tr>\n",
              "      <th>2</th>\n",
              "      <td>0.495242</td>\n",
              "      <td>0.45</td>\n",
              "    </tr>\n",
              "    <tr>\n",
              "      <th>3</th>\n",
              "      <td>0.464207</td>\n",
              "      <td>0.46</td>\n",
              "    </tr>\n",
              "    <tr>\n",
              "      <th>4</th>\n",
              "      <td>0.413789</td>\n",
              "      <td>0.46</td>\n",
              "    </tr>\n",
              "    <tr>\n",
              "      <th>...</th>\n",
              "      <td>...</td>\n",
              "      <td>...</td>\n",
              "    </tr>\n",
              "    <tr>\n",
              "      <th>390</th>\n",
              "      <td>0.534284</td>\n",
              "      <td>0.50</td>\n",
              "    </tr>\n",
              "    <tr>\n",
              "      <th>391</th>\n",
              "      <td>0.504884</td>\n",
              "      <td>0.50</td>\n",
              "    </tr>\n",
              "    <tr>\n",
              "      <th>392</th>\n",
              "      <td>0.497077</td>\n",
              "      <td>0.50</td>\n",
              "    </tr>\n",
              "    <tr>\n",
              "      <th>393</th>\n",
              "      <td>0.495200</td>\n",
              "      <td>0.50</td>\n",
              "    </tr>\n",
              "    <tr>\n",
              "      <th>394</th>\n",
              "      <td>0.492470</td>\n",
              "      <td>0.50</td>\n",
              "    </tr>\n",
              "  </tbody>\n",
              "</table>\n",
              "<p>395 rows × 2 columns</p>\n",
              "</div>\n",
              "      <button class=\"colab-df-convert\" onclick=\"convertToInteractive('df-3a2b1846-6f06-4d90-80b8-b4ce00eeea08')\"\n",
              "              title=\"Convert this dataframe to an interactive table.\"\n",
              "              style=\"display:none;\">\n",
              "        \n",
              "  <svg xmlns=\"http://www.w3.org/2000/svg\" height=\"24px\"viewBox=\"0 0 24 24\"\n",
              "       width=\"24px\">\n",
              "    <path d=\"M0 0h24v24H0V0z\" fill=\"none\"/>\n",
              "    <path d=\"M18.56 5.44l.94 2.06.94-2.06 2.06-.94-2.06-.94-.94-2.06-.94 2.06-2.06.94zm-11 1L8.5 8.5l.94-2.06 2.06-.94-2.06-.94L8.5 2.5l-.94 2.06-2.06.94zm10 10l.94 2.06.94-2.06 2.06-.94-2.06-.94-.94-2.06-.94 2.06-2.06.94z\"/><path d=\"M17.41 7.96l-1.37-1.37c-.4-.4-.92-.59-1.43-.59-.52 0-1.04.2-1.43.59L10.3 9.45l-7.72 7.72c-.78.78-.78 2.05 0 2.83L4 21.41c.39.39.9.59 1.41.59.51 0 1.02-.2 1.41-.59l7.78-7.78 2.81-2.81c.8-.78.8-2.07 0-2.86zM5.41 20L4 18.59l7.72-7.72 1.47 1.35L5.41 20z\"/>\n",
              "  </svg>\n",
              "      </button>\n",
              "      \n",
              "  <style>\n",
              "    .colab-df-container {\n",
              "      display:flex;\n",
              "      flex-wrap:wrap;\n",
              "      gap: 12px;\n",
              "    }\n",
              "\n",
              "    .colab-df-convert {\n",
              "      background-color: #E8F0FE;\n",
              "      border: none;\n",
              "      border-radius: 50%;\n",
              "      cursor: pointer;\n",
              "      display: none;\n",
              "      fill: #1967D2;\n",
              "      height: 32px;\n",
              "      padding: 0 0 0 0;\n",
              "      width: 32px;\n",
              "    }\n",
              "\n",
              "    .colab-df-convert:hover {\n",
              "      background-color: #E2EBFA;\n",
              "      box-shadow: 0px 1px 2px rgba(60, 64, 67, 0.3), 0px 1px 3px 1px rgba(60, 64, 67, 0.15);\n",
              "      fill: #174EA6;\n",
              "    }\n",
              "\n",
              "    [theme=dark] .colab-df-convert {\n",
              "      background-color: #3B4455;\n",
              "      fill: #D2E3FC;\n",
              "    }\n",
              "\n",
              "    [theme=dark] .colab-df-convert:hover {\n",
              "      background-color: #434B5C;\n",
              "      box-shadow: 0px 1px 3px 1px rgba(0, 0, 0, 0.15);\n",
              "      filter: drop-shadow(0px 1px 2px rgba(0, 0, 0, 0.3));\n",
              "      fill: #FFFFFF;\n",
              "    }\n",
              "  </style>\n",
              "\n",
              "      <script>\n",
              "        const buttonEl =\n",
              "          document.querySelector('#df-3a2b1846-6f06-4d90-80b8-b4ce00eeea08 button.colab-df-convert');\n",
              "        buttonEl.style.display =\n",
              "          google.colab.kernel.accessAllowed ? 'block' : 'none';\n",
              "\n",
              "        async function convertToInteractive(key) {\n",
              "          const element = document.querySelector('#df-3a2b1846-6f06-4d90-80b8-b4ce00eeea08');\n",
              "          const dataTable =\n",
              "            await google.colab.kernel.invokeFunction('convertToInteractive',\n",
              "                                                     [key], {});\n",
              "          if (!dataTable) return;\n",
              "\n",
              "          const docLinkHtml = 'Like what you see? Visit the ' +\n",
              "            '<a target=\"_blank\" href=https://colab.research.google.com/notebooks/data_table.ipynb>data table notebook</a>'\n",
              "            + ' to learn more about interactive tables.';\n",
              "          element.innerHTML = '';\n",
              "          dataTable['output_type'] = 'display_data';\n",
              "          await google.colab.output.renderOutput(dataTable, element);\n",
              "          const docLink = document.createElement('div');\n",
              "          docLink.innerHTML = docLinkHtml;\n",
              "          element.appendChild(docLink);\n",
              "        }\n",
              "      </script>\n",
              "    </div>\n",
              "  </div>\n",
              "  "
            ]
          },
          "metadata": {},
          "execution_count": 19
        }
      ]
    },
    {
      "cell_type": "code",
      "source": [
        "import matplotlib.pyplot as plt\n",
        "plt.plot(test_results['Test Predictions of rainfall for month'][:150])\n",
        "plt.plot(test_results['Actuals'][:150])"
      ],
      "metadata": {
        "colab": {
          "base_uri": "https://localhost:8080/",
          "height": 286
        },
        "id": "h0WBk9k2d67s",
        "outputId": "a3555f14-9eaa-494e-87ed-0002095b2ef3"
      },
      "execution_count": 21,
      "outputs": [
        {
          "output_type": "execute_result",
          "data": {
            "text/plain": [
              "[<matplotlib.lines.Line2D at 0x7f5fd9ba4610>]"
            ]
          },
          "metadata": {},
          "execution_count": 21
        },
        {
          "output_type": "display_data",
          "data": {
            "text/plain": [
              "<Figure size 432x288 with 1 Axes>"
            ],
            "image/png": "[encoded data removed]"
          },
          "metadata": {
            "needs_background": "light"
          }
        }
      ]
    },
    {
      "cell_type": "code",
      "source": [
        "train_predictions = model1.predict(X_train1).flatten()\n",
        "train_results = pd.DataFrame(data={'Train Predictions':train_predictions, 'Actuals':y_train1})\n",
        "train_results"
      ],
      "metadata": {
        "id": "DNQ2LN7widhu"
      },
      "execution_count": null,
      "outputs": []
    },
    {
      "cell_type": "code",
      "source": [
        "import matplotlib.pyplot as plt\n",
        "plt.plot(train_results['Train Predictions'][0:100])\n",
        "plt.plot(train_results['Actuals'][0:100])"
      ],
      "metadata": {
        "id": "ugJ_XtsaivKZ"
      },
      "execution_count": null,
      "outputs": []
    }
  ]
}